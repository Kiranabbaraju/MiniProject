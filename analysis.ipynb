{
 "cells": [
  {
   "cell_type": "code",
   "execution_count": 60,
   "id": "e6a16664-d352-4064-8ce8-c1f6170dbd85",
   "metadata": {},
   "outputs": [
    {
     "name": "stdout",
     "output_type": "stream",
     "text": [
      "<class 'pandas.core.frame.DataFrame'>\n",
      "RangeIndex: 100 entries, 0 to 99\n",
      "Data columns (total 8 columns):\n",
      " #   Column            Non-Null Count  Dtype \n",
      "---  ------            --------------  ----- \n",
      " 0   batch_id          100 non-null    object\n",
      " 1   start_time        100 non-null    object\n",
      " 2   end_time          100 non-null    object\n",
      " 3   total_units       100 non-null    int64 \n",
      " 4   defective_units   100 non-null    int64 \n",
      " 5   status            100 non-null    object\n",
      " 6   downtime_minutes  100 non-null    int64 \n",
      " 7   defect_cause      19 non-null     object\n",
      "dtypes: int64(3), object(5)\n",
      "memory usage: 6.4+ KB\n"
     ]
    },
    {
     "data": {
      "text/html": [
       "<div>\n",
       "<style scoped>\n",
       "    .dataframe tbody tr th:only-of-type {\n",
       "        vertical-align: middle;\n",
       "    }\n",
       "\n",
       "    .dataframe tbody tr th {\n",
       "        vertical-align: top;\n",
       "    }\n",
       "\n",
       "    .dataframe thead th {\n",
       "        text-align: right;\n",
       "    }\n",
       "</style>\n",
       "<table border=\"1\" class=\"dataframe\">\n",
       "  <thead>\n",
       "    <tr style=\"text-align: right;\">\n",
       "      <th></th>\n",
       "      <th>batch_id</th>\n",
       "      <th>start_time</th>\n",
       "      <th>end_time</th>\n",
       "      <th>total_units</th>\n",
       "      <th>defective_units</th>\n",
       "      <th>status</th>\n",
       "      <th>downtime_minutes</th>\n",
       "      <th>defect_cause</th>\n",
       "    </tr>\n",
       "  </thead>\n",
       "  <tbody>\n",
       "    <tr>\n",
       "      <th>0</th>\n",
       "      <td>BATCH_001</td>\n",
       "      <td>2025-01-01 08:00:00</td>\n",
       "      <td>2025-01-01 09:00:00</td>\n",
       "      <td>825</td>\n",
       "      <td>63</td>\n",
       "      <td>pass</td>\n",
       "      <td>0</td>\n",
       "      <td>NaN</td>\n",
       "    </tr>\n",
       "    <tr>\n",
       "      <th>1</th>\n",
       "      <td>BATCH_002</td>\n",
       "      <td>2025-01-01 09:00:00</td>\n",
       "      <td>2025-01-01 10:00:00</td>\n",
       "      <td>1185</td>\n",
       "      <td>29</td>\n",
       "      <td>pass</td>\n",
       "      <td>5</td>\n",
       "      <td>NaN</td>\n",
       "    </tr>\n",
       "    <tr>\n",
       "      <th>2</th>\n",
       "      <td>BATCH_003</td>\n",
       "      <td>2025-01-01 10:00:00</td>\n",
       "      <td>2025-01-01 11:00:00</td>\n",
       "      <td>1046</td>\n",
       "      <td>35</td>\n",
       "      <td>pass</td>\n",
       "      <td>10</td>\n",
       "      <td>NaN</td>\n",
       "    </tr>\n",
       "    <tr>\n",
       "      <th>3</th>\n",
       "      <td>BATCH_004</td>\n",
       "      <td>2025-01-01 11:00:00</td>\n",
       "      <td>2025-01-01 12:00:00</td>\n",
       "      <td>890</td>\n",
       "      <td>77</td>\n",
       "      <td>pass</td>\n",
       "      <td>10</td>\n",
       "      <td>NaN</td>\n",
       "    </tr>\n",
       "    <tr>\n",
       "      <th>4</th>\n",
       "      <td>BATCH_005</td>\n",
       "      <td>2025-01-01 12:00:00</td>\n",
       "      <td>2025-01-01 13:00:00</td>\n",
       "      <td>1034</td>\n",
       "      <td>56</td>\n",
       "      <td>pass</td>\n",
       "      <td>0</td>\n",
       "      <td>NaN</td>\n",
       "    </tr>\n",
       "  </tbody>\n",
       "</table>\n",
       "</div>"
      ],
      "text/plain": [
       "    batch_id           start_time             end_time  total_units  \\\n",
       "0  BATCH_001  2025-01-01 08:00:00  2025-01-01 09:00:00          825   \n",
       "1  BATCH_002  2025-01-01 09:00:00  2025-01-01 10:00:00         1185   \n",
       "2  BATCH_003  2025-01-01 10:00:00  2025-01-01 11:00:00         1046   \n",
       "3  BATCH_004  2025-01-01 11:00:00  2025-01-01 12:00:00          890   \n",
       "4  BATCH_005  2025-01-01 12:00:00  2025-01-01 13:00:00         1034   \n",
       "\n",
       "   defective_units status  downtime_minutes defect_cause  \n",
       "0               63   pass                 0          NaN  \n",
       "1               29   pass                 5          NaN  \n",
       "2               35   pass                10          NaN  \n",
       "3               77   pass                10          NaN  \n",
       "4               56   pass                 0          NaN  "
      ]
     },
     "execution_count": 60,
     "metadata": {},
     "output_type": "execute_result"
    }
   ],
   "source": [
    "import pandas as pd\n",
    "df = pd.read_excel(r\"C:\\Users\\Shrow\\manufacturing_quality_control\\data\\relevant_quality_control_dataset_plain_time.xlsx\")\n",
    "df.info()\n",
    "df.head()"
   ]
  },
  {
   "cell_type": "code",
   "execution_count": 16,
   "id": "12530fdc-8cdd-401f-99fc-48ef83c56629",
   "metadata": {},
   "outputs": [
    {
     "data": {
      "text/plain": [
       "100"
      ]
     },
     "execution_count": 16,
     "metadata": {},
     "output_type": "execute_result"
    }
   ],
   "source": [
    "import sqlite3\n",
    "# connect to sqlLite DB\n",
    "conn = sqlite3.connect(r\"C:\\Users\\Shrow\\manufacturing_quality_control\\data\\quality_control.db\")\n",
    "\n",
    "                    \n",
    "\n",
    "# saving the DataFrame to a table called 'batches'\n",
    "df.to_sql('batches', conn, if_exists='replace', index=False)"
   ]
  },
  {
   "cell_type": "code",
   "execution_count": 55,
   "id": "9edfe87a-aa82-416d-9f58-c11c7b0b63c3",
   "metadata": {},
   "outputs": [
    {
     "data": {
      "text/html": [
       "<div>\n",
       "<style scoped>\n",
       "    .dataframe tbody tr th:only-of-type {\n",
       "        vertical-align: middle;\n",
       "    }\n",
       "\n",
       "    .dataframe tbody tr th {\n",
       "        vertical-align: top;\n",
       "    }\n",
       "\n",
       "    .dataframe thead th {\n",
       "        text-align: right;\n",
       "    }\n",
       "</style>\n",
       "<table border=\"1\" class=\"dataframe\">\n",
       "  <thead>\n",
       "    <tr style=\"text-align: right;\">\n",
       "      <th></th>\n",
       "      <th>batch_id</th>\n",
       "      <th>start_time</th>\n",
       "      <th>end_time</th>\n",
       "      <th>total_units</th>\n",
       "      <th>defective_units</th>\n",
       "      <th>status</th>\n",
       "      <th>downtime_minutes</th>\n",
       "      <th>defect_cause</th>\n",
       "    </tr>\n",
       "  </thead>\n",
       "  <tbody>\n",
       "    <tr>\n",
       "      <th>0</th>\n",
       "      <td>BATCH_001</td>\n",
       "      <td>2025-01-01 08:00:00</td>\n",
       "      <td>2025-01-01 09:00:00</td>\n",
       "      <td>825</td>\n",
       "      <td>63</td>\n",
       "      <td>pass</td>\n",
       "      <td>0</td>\n",
       "      <td>NaN</td>\n",
       "    </tr>\n",
       "    <tr>\n",
       "      <th>1</th>\n",
       "      <td>BATCH_002</td>\n",
       "      <td>2025-01-01 09:00:00</td>\n",
       "      <td>2025-01-01 10:00:00</td>\n",
       "      <td>1185</td>\n",
       "      <td>29</td>\n",
       "      <td>pass</td>\n",
       "      <td>5</td>\n",
       "      <td>NaN</td>\n",
       "    </tr>\n",
       "    <tr>\n",
       "      <th>2</th>\n",
       "      <td>BATCH_003</td>\n",
       "      <td>2025-01-01 10:00:00</td>\n",
       "      <td>2025-01-01 11:00:00</td>\n",
       "      <td>1046</td>\n",
       "      <td>35</td>\n",
       "      <td>pass</td>\n",
       "      <td>10</td>\n",
       "      <td>NaN</td>\n",
       "    </tr>\n",
       "    <tr>\n",
       "      <th>3</th>\n",
       "      <td>BATCH_004</td>\n",
       "      <td>2025-01-01 11:00:00</td>\n",
       "      <td>2025-01-01 12:00:00</td>\n",
       "      <td>890</td>\n",
       "      <td>77</td>\n",
       "      <td>pass</td>\n",
       "      <td>10</td>\n",
       "      <td>NaN</td>\n",
       "    </tr>\n",
       "    <tr>\n",
       "      <th>4</th>\n",
       "      <td>BATCH_005</td>\n",
       "      <td>2025-01-01 12:00:00</td>\n",
       "      <td>2025-01-01 13:00:00</td>\n",
       "      <td>1034</td>\n",
       "      <td>56</td>\n",
       "      <td>pass</td>\n",
       "      <td>0</td>\n",
       "      <td>NaN</td>\n",
       "    </tr>\n",
       "  </tbody>\n",
       "</table>\n",
       "</div>"
      ],
      "text/plain": [
       "    batch_id           start_time             end_time  total_units  \\\n",
       "0  BATCH_001  2025-01-01 08:00:00  2025-01-01 09:00:00          825   \n",
       "1  BATCH_002  2025-01-01 09:00:00  2025-01-01 10:00:00         1185   \n",
       "2  BATCH_003  2025-01-01 10:00:00  2025-01-01 11:00:00         1046   \n",
       "3  BATCH_004  2025-01-01 11:00:00  2025-01-01 12:00:00          890   \n",
       "4  BATCH_005  2025-01-01 12:00:00  2025-01-01 13:00:00         1034   \n",
       "\n",
       "   defective_units status  downtime_minutes defect_cause  \n",
       "0               63   pass                 0          NaN  \n",
       "1               29   pass                 5          NaN  \n",
       "2               35   pass                10          NaN  \n",
       "3               77   pass                10          NaN  \n",
       "4               56   pass                 0          NaN  "
      ]
     },
     "execution_count": 55,
     "metadata": {},
     "output_type": "execute_result"
    }
   ],
   "source": [
    "df.shape\n",
    "df.head()"
   ]
  },
  {
   "cell_type": "code",
   "execution_count": 19,
   "id": "e361712a-eb7d-4da0-8545-b64497c0a9c1",
   "metadata": {},
   "outputs": [
    {
     "data": {
      "text/plain": [
       "100"
      ]
     },
     "execution_count": 19,
     "metadata": {},
     "output_type": "execute_result"
    }
   ],
   "source": [
    "conn = sqlite3.connect(r\"C:\\Users\\Shrow\\manufacturing_quality_control\\data\\quality_control.db\")\n",
    "df.to_sql('batches', conn, if_exists='replace', index=False)\n"
   ]
  },
  {
   "cell_type": "code",
   "execution_count": 20,
   "id": "dd4562ed-c7c3-4250-983a-b26ebedbd4a1",
   "metadata": {},
   "outputs": [
    {
     "data": {
      "text/html": [
       "<div>\n",
       "<style scoped>\n",
       "    .dataframe tbody tr th:only-of-type {\n",
       "        vertical-align: middle;\n",
       "    }\n",
       "\n",
       "    .dataframe tbody tr th {\n",
       "        vertical-align: top;\n",
       "    }\n",
       "\n",
       "    .dataframe thead th {\n",
       "        text-align: right;\n",
       "    }\n",
       "</style>\n",
       "<table border=\"1\" class=\"dataframe\">\n",
       "  <thead>\n",
       "    <tr style=\"text-align: right;\">\n",
       "      <th></th>\n",
       "      <th>COUNT(*)</th>\n",
       "    </tr>\n",
       "  </thead>\n",
       "  <tbody>\n",
       "    <tr>\n",
       "      <th>0</th>\n",
       "      <td>100</td>\n",
       "    </tr>\n",
       "  </tbody>\n",
       "</table>\n",
       "</div>"
      ],
      "text/plain": [
       "   COUNT(*)\n",
       "0       100"
      ]
     },
     "execution_count": 20,
     "metadata": {},
     "output_type": "execute_result"
    }
   ],
   "source": [
    "pd.read_sql(\"SELECT COUNT(*) FROM batches\", conn)\n"
   ]
  },
  {
   "cell_type": "code",
   "execution_count": 63,
   "id": "a591853d-904d-4c1a-8c91-e3e195a98523",
   "metadata": {},
   "outputs": [
    {
     "data": {
      "text/html": [
       "<div>\n",
       "<style scoped>\n",
       "    .dataframe tbody tr th:only-of-type {\n",
       "        vertical-align: middle;\n",
       "    }\n",
       "\n",
       "    .dataframe tbody tr th {\n",
       "        vertical-align: top;\n",
       "    }\n",
       "\n",
       "    .dataframe thead th {\n",
       "        text-align: right;\n",
       "    }\n",
       "</style>\n",
       "<table border=\"1\" class=\"dataframe\">\n",
       "  <thead>\n",
       "    <tr style=\"text-align: right;\">\n",
       "      <th></th>\n",
       "      <th>total_batches</th>\n",
       "      <th>total_defects</th>\n",
       "      <th>defect_rate</th>\n",
       "    </tr>\n",
       "  </thead>\n",
       "  <tbody>\n",
       "    <tr>\n",
       "      <th>0</th>\n",
       "      <td>100</td>\n",
       "      <td>5371</td>\n",
       "      <td>53.71</td>\n",
       "    </tr>\n",
       "  </tbody>\n",
       "</table>\n",
       "</div>"
      ],
      "text/plain": [
       "   total_batches  total_defects  defect_rate\n",
       "0            100           5371        53.71"
      ]
     },
     "execution_count": 63,
     "metadata": {},
     "output_type": "execute_result"
    }
   ],
   "source": [
    "# To run sql query\n",
    "def run_query(sql):\n",
    "    return pd.read_sql(sql, conn)\n",
    "\n",
    "# here total defects / total batches gives us defect rate\n",
    "query = \"\"\"\n",
    "SELECT\n",
    "    COUNT(*) AS total_batches,\n",
    "    SUM(defective_units) AS total_defects,\n",
    "    SUM(defective_units) * 1.0 / COUNT(*) AS defect_rate\n",
    "FROM batches\n",
    "\"\"\"\n",
    "\n",
    "# Run the query and display results\n",
    "run_query(query)"
   ]
  },
  {
   "cell_type": "code",
   "execution_count": 61,
   "id": "9c740dc4-8e70-4609-9f26-b95a2e4d3046",
   "metadata": {},
   "outputs": [
    {
     "data": {
      "image/png": "[encoded data removed]",
      "text/plain": [
       "<Figure size 1000x500 with 1 Axes>"
      ]
     },
     "metadata": {},
     "output_type": "display_data"
    }
   ],
   "source": [
    "import matplotlib.pyplot as plt\n",
    "\n",
    "# Grouping by day or hour\n",
    "df['start_time'] = pd.to_datetime(df['start_time'])\n",
    "df_by_day = df.groupby(df['start_time'].dt.date)['defective_units'].sum()\n",
    "\n",
    "# plot\n",
    "plt.figure(figsize=(10, 5))\n",
    "df_by_day.plot(marker='o')\n",
    "plt.title('Batch quality trends')\n",
    "plt.xlabel('Date')\n",
    "plt.ylabel('Number of Defects')\n",
    "plt.grid(True)\n",
    "plt.tight_layout()\n",
    "plt.show()\n"
   ]
  },
  {
   "cell_type": "code",
   "execution_count": 47,
   "id": "f7a16494-95dd-4061-bb83-7d9cc96d42ec",
   "metadata": {},
   "outputs": [
    {
     "name": "stdout",
     "output_type": "stream",
     "text": [
      "   downtime_rate\n",
      "0           0.04\n"
     ]
    }
   ],
   "source": [
    "def run_query(sql):\n",
    "    return pd.read_sql(sql, conn)\n",
    "\n",
    "query = \"\"\"\n",
    "SELECT \n",
    "    SUM(downtime_minutes) * 1.0 / \n",
    "    SUM((JULIANDAY(end_time) - JULIANDAY(start_time)) * 24 * 60) AS downtime_rate\n",
    "FROM batches;\n",
    "\"\"\"\n",
    "\n",
    "downtime_result = run_query(query)\n",
    "print(downtime_result)\n"
   ]
  },
  {
   "cell_type": "code",
   "execution_count": 62,
   "id": "d2a982d5-ea80-442a-8e5d-a4592df5ce07",
   "metadata": {},
   "outputs": [
    {
     "name": "stdout",
     "output_type": "stream",
     "text": [
      "Batch Failure Rate:\n"
     ]
    },
    {
     "data": {
      "text/html": [
       "<div>\n",
       "<style scoped>\n",
       "    .dataframe tbody tr th:only-of-type {\n",
       "        vertical-align: middle;\n",
       "    }\n",
       "\n",
       "    .dataframe tbody tr th {\n",
       "        vertical-align: top;\n",
       "    }\n",
       "\n",
       "    .dataframe thead th {\n",
       "        text-align: right;\n",
       "    }\n",
       "</style>\n",
       "<table border=\"1\" class=\"dataframe\">\n",
       "  <thead>\n",
       "    <tr style=\"text-align: right;\">\n",
       "      <th></th>\n",
       "      <th>batch_failure_rate</th>\n",
       "    </tr>\n",
       "  </thead>\n",
       "  <tbody>\n",
       "    <tr>\n",
       "      <th>0</th>\n",
       "      <td>0.19</td>\n",
       "    </tr>\n",
       "  </tbody>\n",
       "</table>\n",
       "</div>"
      ],
      "text/plain": [
       "   batch_failure_rate\n",
       "0                0.19"
      ]
     },
     "metadata": {},
     "output_type": "display_data"
    }
   ],
   "source": [
    "import pandas as pd\n",
    "import sqlite3\n",
    "\n",
    "# loading dataset\n",
    "df = pd.read_excel(r\"C:\\Users\\Shrow\\manufacturing_quality_control\\data\\relevant_quality_control_dataset_plain_time.xlsx\")\n",
    "\n",
    "# Connect to sqllite DB\n",
    "conn = sqlite3.connect(':memory:')\n",
    "\n",
    "# Save the DataFrame to a table named 'batches'\n",
    "df.to_sql('batches', conn, index=False, if_exists='replace')\n",
    "\n",
    "# sequel to calculate batch failure rate\n",
    "query = \"\"\"\n",
    "SELECT \n",
    "    COUNT(CASE WHEN LOWER(status) = 'defective' THEN 1 END) * 1.0 / COUNT(*) AS batch_failure_rate\n",
    "FROM batches;\n",
    "\"\"\"\n",
    "\n",
    "# Execute the query\n",
    "result = pd.read_sql(query, conn)\n",
    "\n",
    "# Display result\n",
    "print(\"Batch Failure Rate:\")\n",
    "display(result)\n"
   ]
  },
  {
   "cell_type": "code",
   "execution_count": 51,
   "id": "2c1d95b0-f36a-4940-8e75-a02dde556923",
   "metadata": {},
   "outputs": [
    {
     "data": {
      "image/png": "[encoded data removed]",
      "text/plain": [
       "<Figure size 1000x600 with 1 Axes>"
      ]
     },
     "metadata": {},
     "output_type": "display_data"
    }
   ],
   "source": [
    "# ensuring 'start_time' is datetime\n",
    "df['start_time'] = pd.to_datetime(df['start_time'])\n",
    "\n",
    "# filtering only defective batches\n",
    "failures = df[df['status'].str.lower() == 'defective'].copy()\n",
    "\n",
    "# extract date part to group by day\n",
    "failures['failure_date'] = failures['start_time'].dt.date\n",
    "\n",
    "# count failures per day\n",
    "failures_per_day = failures.groupby('failure_date').size().reset_index(name='failures')\n",
    "\n",
    "# Plot distribution of daily failure counts\n",
    "plt.figure(figsize=(10, 6))\n",
    "sns.histplot(failures_per_day['failures'], bins=10, kde=True, color='tomato')\n",
    "plt.title('Distribution of Failure Frequency (per Day)')\n",
    "plt.xlabel('Number of Failures')\n",
    "plt.ylabel('Frequency of Days')\n",
    "plt.grid(True)\n",
    "plt.tight_layout()\n",
    "plt.show()"
   ]
  },
  {
   "cell_type": "code",
   "execution_count": 64,
   "id": "7ef4fd91-a36b-480f-b4e0-c699a0f2a5cf",
   "metadata": {},
   "outputs": [
    {
     "data": {
      "image/png": "[encoded data removed]",
      "text/plain": [
       "<Figure size 1000x600 with 1 Axes>"
      ]
     },
     "metadata": {},
     "output_type": "display_data"
    }
   ],
   "source": [
    "# filter defective batches\n",
    "defective_batches = df[df['status'].str.lower() == 'defective']\n",
    "\n",
    "# counting the occurrences of each defect cause\n",
    "defect_counts = defective_batches['defect_cause'].value_counts().reset_index()\n",
    "defect_counts.columns = ['defect_cause', 'count']\n",
    "\n",
    "# Plot\n",
    "plt.figure(figsize=(10, 6))\n",
    "sns.barplot(data=defect_counts, x='count', y='defect_cause')\n",
    "plt.title('Comparative Bar Plot of Defect Causes')\n",
    "plt.xlabel('Number of Defective Batches')\n",
    "plt.ylabel('Defect Cause')\n",
    "plt.grid(True)\n",
    "plt.tight_layout()\n",
    "plt.show()"
   ]
  },
  {
   "cell_type": "code",
   "execution_count": null,
   "id": "581c2afb-9a53-4f86-91a6-6799062b702a",
   "metadata": {},
   "outputs": [],
   "source": []
  }
 ],
 "metadata": {
  "kernelspec": {
   "display_name": "Python 3 (ipykernel)",
   "language": "python",
   "name": "python3"
  },
  "language_info": {
   "codemirror_mode": {
    "name": "ipython",
    "version": 3
   },
   "file_extension": ".py",
   "mimetype": "text/x-python",
   "name": "python",
   "nbconvert_exporter": "python",
   "pygments_lexer": "ipython3",
   "version": "3.13.5"
  }
 },
 "nbformat": 4,
 "nbformat_minor": 5
}
